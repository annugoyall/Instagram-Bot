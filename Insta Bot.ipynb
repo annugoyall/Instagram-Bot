{
 "cells": [
  {
   "cell_type": "code",
   "execution_count": 1,
   "id": "2a0d01ed",
   "metadata": {},
   "outputs": [],
   "source": [
    "from selenium.webdriver.support.ui import WebDriverWait\n",
    "from selenium.webdriver.support import expected_conditions as EC\n",
    "from selenium.webdriver.common.by import By\n",
    "from selenium.common.exceptions import NoSuchElementException,StaleElementReferenceException,TimeoutException\n",
    "from selenium import webdriver\n",
    "from webdriver_manager.chrome import ChromeDriverManager\n",
    "import time\n",
    "import matplotlib.pyplot as plt\n",
    "import warnings\n",
    "warnings.filterwarnings(\"ignore\")"
   ]
  },
  {
   "cell_type": "markdown",
   "id": "c639ba5f",
   "metadata": {},
   "source": [
    "### Login to Instagram Handle"
   ]
  },
  {
   "cell_type": "code",
   "execution_count": 4,
   "id": "18b5c45c",
   "metadata": {},
   "outputs": [
    {
     "name": "stderr",
     "output_type": "stream",
     "text": [
      "\n",
      "\n",
      "====== WebDriver manager ======\n",
      "Current google-chrome version is 101.0.4951\n",
      "Get LATEST driver version for 101.0.4951\n",
      "Driver [C:\\Users\\Annu\\.wdm\\drivers\\chromedriver\\win32\\101.0.4951.41\\chromedriver.exe] found in cache\n"
     ]
    }
   ],
   "source": [
    "driver = webdriver.Chrome(ChromeDriverManager().install())\n",
    "driver.maximize_window()\n",
    "time.sleep(2)\n",
    "driver.get('https://www.instagram.com/')\n",
    "driver.implicitly_wait(5)\n",
    "\n",
    "# Login to instagram\n",
    "a = driver.find_element_by_name(\"username\")\n",
    "b = driver.find_element_by_name(\"password\")\n",
    "a.send_keys(username)\n",
    "b.send_keys(password)\n",
    "b.submit()\n",
    "\n",
    "wait = WebDriverWait(driver, 10)  \n",
    "\n",
    "# Cancelling popups\n",
    "wait.until(EC.presence_of_element_located((By.XPATH , '//div[starts-with(@class,\"cmbtv\")]/button')))\n",
    "driver.find_element_by_xpath('//div[starts-with(@class,\"cmbtv\")]/button').click()\n",
    "wait.until(EC.presence_of_element_located((By.XPATH , '//button[contains(@class,\"HoLwm\")]')))\n",
    "driver.find_element_by_xpath('//button[contains(@class,\"HoLwm\")]').click()"
   ]
  },
  {
   "cell_type": "markdown",
   "id": "7a457bca",
   "metadata": {},
   "source": [
    "### Check the story of any user. \n",
    "### Consider the following Scenarios and print error messages accordingly -\n",
    "### If You have already seen the story Or The user has no story Or View the story if not yet seen."
   ]
  },
  {
   "cell_type": "code",
   "execution_count": null,
   "id": "7affa290",
   "metadata": {},
   "outputs": [],
   "source": [
    "search = driver.find_element_by_xpath(\"//input[@type='text']\")\n",
    "search.clear()\n",
    "search.send_keys('user')\n",
    "driver.find_element_by_partial_link_text(\"user\").click()\n",
    "a = driver.find_element_by_xpath(\"//div[contains(@class,'h5uC0')]\")\n",
    "AD = a.get_attribute('aria-disabled')\n",
    "story = (a.get_attribute('innerHTML').split()[2].split('\"')[1] == '249')\n",
    "if AD == 'true':\n",
    "    print(\"User has no story\")\n",
    "else:\n",
    "    if not story:\n",
    "        print(\"Not yet seen.. viewing it\")\n",
    "        a.click()\n",
    "    else:\n",
    "        print(\"Already seen\")"
   ]
  },
  {
   "cell_type": "markdown",
   "id": "ea272fee",
   "metadata": {},
   "source": [
    "### Extract list of followers\n",
    "#### Example : Top 100 followers of So Delhi"
   ]
  },
  {
   "cell_type": "code",
   "execution_count": 81,
   "id": "42d1fdb1",
   "metadata": {},
   "outputs": [
    {
     "name": "stdout",
     "output_type": "stream",
     "text": [
      "List of top 100 followers of sodelhi is ['mohammad_arshad8', 'bipashaaaa_2', 'divyat_', 'awaaaaaraaa', '_agrawal.kartik_', 'ankitkr_911', 'sakship90', 'baghel_king', 'naagarbunty', 'rattancheemaa', 'uditapuri', 'gippies_bakery', 'shrutxz', 'chhabraamit12', 'lxx_raghav', 'deepiinsta', 'vermanaveen__', 'fziansfanpage', 'dilshad_stylist_official', 'sikharr_006', 'harsh_sharma1782', 'rupali_2786', 'avantika_aggrawal', '_ritikasharma27', 'zhen_wan_sying_kshatriya', 'purnima_1805', 'rpvt_3', 'abhyudit19', '___lostboi___', 'manshajain_', 'nirupama_amy', 'sakshi.s__', 'rajveersingh7788', 'funfunnykhej', 'inst._.a._.a', 'have_faithin_mee', 'deepshikhasingh__', 'shalini.1178', 'reshmataneja9', 'crazylazysapien', 'cma_saquib', '_sabir_ansari', 'i_bhavyasethi30', 'aslkhan7109', 'tiya_bora05', 'iam_divay', 'shubhamjha301', 'sakibsaifi161', 'xenophilic_soul', 'd3lhi_', 'aditya_david_', 'kathpal_tanisha', 'kritika_1901', '_ankiisrivastava', 'rahulprajapati8728', 'iambhrt', 'merchantshreya', 'muskan_nnn', 'imabhaynegi', 'currenty_cafe', 'foodroutewithdipanka', 'rm_4evr', 'pavneetsinghsheetal', 'zonicaz', 'amolkumar2872', 'ektapurimehrotra', 'kamalrawat012345', 'm_a_h_e_s_h__1_3_s_i_n_g_h___', 'ekkhasaadmi', 'lolipax.__', 'travelwithishankraj5', 'jksrs6', 'saksh_isharma65', '_.thiwisha._', 'meenakshii_bakshi', 'disha_holmes', 'enigmatic_scribbler28', 'jyotimori42', 'ankit.narayn', 'moodypoojaofficial', '_wasifmanhas_', 'geetam.j', 'qayumkhan290', 'coredelhite', 'nish_tha0409', 'aarini_bajpai_10', 'keeplookingduh', 'nisha_goswami15', 'shruti.deosaria', 'shayansen', '_rzookhan_', 'saumya23gupta', 'megha_3001', 'official_yadav._nee2', '_lishakhurana_', 'priy.anshhiii__', 'riyamol651', '_deepyaduvanshi', 'hyderabadibbq', 'radhika__1207']\n"
     ]
    }
   ],
   "source": [
    "def panel(username):\n",
    "    search = driver.find_element_by_xpath('//div[contains(@class,\"LWmhU\")]/input')\n",
    "    search.clear()\n",
    "    search.send_keys(username)\n",
    "    driver.find_element_by_class_name(\"-qQT3\").click()\n",
    "    wait.until(EC.presence_of_all_elements_located((By.PARTIAL_LINK_TEXT ,'followers')))\n",
    "    driver.find_element_by_partial_link_text('followers').click()\n",
    "def list_of_followers(username):\n",
    "    panel(username)\n",
    "    current_height = driver.execute_script('return document.getElementsByClassName(\"isgrP\")[0].scrollHeight ;')\n",
    "    l = []\n",
    "    while True :\n",
    "        ele = driver.find_elements_by_xpath('//span[contains(@class,\"mArmR\")]/a')\n",
    "        for i in ele:\n",
    "            if len(l) == 100:\n",
    "                break\n",
    "            l.append(i.get_attribute('title'))\n",
    "        driver.execute_script('document.getElementsByClassName(\"isgrP\")[0].scrollTo(0, arguments[0]);', current_height)\n",
    "        time.sleep(2)\n",
    "        new_height = driver.execute_script('return document.getElementsByClassName(\"isgrP\")[0].scrollHeight ;')\n",
    "        if (len(l)==100) or (new_height == current_height) :\n",
    "            break\n",
    "        current_height = new_height\n",
    "    driver.find_element_by_xpath(\"//div[contains(@class,'WaOAr')]/button\").click()\n",
    "    return l\n",
    "print(\"List of top 100 followers of sodelhi is\",list_of_followers('sodelhi'))"
   ]
  },
  {
   "cell_type": "markdown",
   "id": "708425ac",
   "metadata": {},
   "source": [
    "### List of people I am following but don't follow me back"
   ]
  },
  {
   "cell_type": "code",
   "execution_count": null,
   "id": "46eaec80",
   "metadata": {},
   "outputs": [],
   "source": [
    "def list_of_my_followers():\n",
    "    wait.until(EC.presence_of_all_elements_located((By.XPATH ,\"//div[@class='_47KiJ']/div\")))\n",
    "    driver.find_elements_by_xpath(\"//div[@class='_47KiJ']/div\")[-1].click()\n",
    "    wait.until(EC.presence_of_all_elements_located((By.XPATH ,\"//a[@class='-qQT3']\")))\n",
    "    driver.find_element_by_xpath('//a[@class=\"-qQT3\"]').click()\n",
    "    time.sleep(2)\n",
    "    wait.until(EC.presence_of_all_elements_located((By.PARTIAL_LINK_TEXT ,'followers')))\n",
    "    driver.find_element_by_partial_link_text('followers').click()\n",
    "    current_height = driver.execute_script('return document.getElementsByClassName(\"isgrP\")[0].scrollHeight ;')\n",
    "    l = []\n",
    "    while True :\n",
    "        ele = driver.find_elements_by_xpath('//span[contains(@class,\"mArmR\")]/a')\n",
    "        for i in ele:\n",
    "            l.append(i.get_attribute('title'))\n",
    "        driver.execute_script('document.getElementsByClassName(\"isgrP\")[0].scrollTo(0, arguments[0]);', current_height)\n",
    "        time.sleep(1)\n",
    "        new_height = driver.execute_script('return document.getElementsByClassName(\"isgrP\")[0].scrollHeight ;')\n",
    "        if new_height == current_height:\n",
    "            break\n",
    "        current_height = new_height\n",
    "    driver.find_element_by_xpath(\"//div[contains(@class,'WaOAr')]/button\").click()\n",
    "    return l\n",
    "def list_of_my_following():\n",
    "    wait.until(EC.presence_of_all_elements_located((By.XPATH ,\"//div[@class='_47KiJ']/div\")))\n",
    "    driver.find_elements_by_xpath(\"//div[@class='_47KiJ']/div\")[-1].click()\n",
    "    wait.until(EC.presence_of_all_elements_located((By.XPATH ,\"//a[@class='-qQT3']\")))\n",
    "    driver.find_element_by_xpath('//a[@class=\"-qQT3\"]').click()\n",
    "    time.sleep(2)\n",
    "    wait.until(EC.presence_of_all_elements_located((By.PARTIAL_LINK_TEXT ,'following')))\n",
    "    driver.find_element_by_partial_link_text('following').click()\n",
    "    current_height = driver.execute_script('return document.getElementsByClassName(\"isgrP\")[0].scrollHeight ;')\n",
    "    l = []\n",
    "    while True :\n",
    "        ele = driver.find_elements_by_xpath('//span[contains(@class,\"mArmR\")]/a')\n",
    "        for i in ele:\n",
    "            l.append(i.get_attribute('title'))\n",
    "        driver.execute_script('document.getElementsByClassName(\"isgrP\")[0].scrollTo(0, arguments[0]);', current_height)\n",
    "        time.sleep(1)\n",
    "        new_height = driver.execute_script('return document.getElementsByClassName(\"isgrP\")[0].scrollHeight ;')\n",
    "        if new_height == current_height:\n",
    "            break\n",
    "        current_height = new_height\n",
    "    driver.find_element_by_xpath(\"//div[contains(@class,'WaOAr')]/button\").click()\n",
    "    return l\n",
    "l1 = list_of_my_followers()\n",
    "l2 = list_of_my_following()\n",
    "print(set(l2) - set(l1))"
   ]
  },
  {
   "cell_type": "markdown",
   "id": "c67e0ea3",
   "metadata": {},
   "source": [
    "### For any another user"
   ]
  },
  {
   "cell_type": "code",
   "execution_count": 38,
   "id": "5bf0476e",
   "metadata": {},
   "outputs": [
    {
     "name": "stdout",
     "output_type": "stream",
     "text": [
      "{'chartology_', 'thesarcaxer', 'rxhulsoni_', 'stud.boyss', 'mohak.narang', 'sk_burger', 'shree_shyam_baba._', 'ca.basnamehikafihai', 'ashish.bagrecha', 'shakshi840', '27sayyam', '_vv.creations', 'the_ultimate_trolls_', 'xbitchhmusic', 'ysahil99', 'zeebusinessofficial', 'shooter_9197', 'sarcastic_us', 'elvish_yadav', 'flirtingchats', '_dekhbhai_', 'neeraj____chopra', 'ca_kapil_goyal', 'sarcasmic_troll', 'virat.kohli', 'thug4liffe', 'siyappa.ishq.ka', 'sarcasticlonda2020', 'dreamer_baljeet_saini', 'time4knowledge', 'scrawled.tales', 'official_ydv_006', 'manish_tanwer_official', 'thesquashedstories', 'thesarcaser', 'haq_se_backbencher', 'pranav_.pg', 'arzaan99', 'rajaumerrr', 'khatushyam_ji_darshan', 'anshul.agarwal.94009', 'icaiorg', 'skater_rahul', 'thestockmarketindia', 'solupdates', 'harshbeniwal', 'filmygags', 'gudu_bansal_', 'ashishchanchlani', 'saini_narender000__', 'ankitpaiga2121', 'just.lol.things', 'mridulmadhok', '_aanshita_', 'businessgrowthmentor', 'dipu_kaushik', 'iwritewhatyoufeel', 'ursulolita', 'thenaughtybro', 'sanchit.grover.372', 'log.kya.sochenge', 'ayaan___5654', 'dharmveer0811', 'goyalsneha0112', 'thebackbencherrs', 'mohit_soni0001', 'rvcjinsta', 'bhuvan.bam22', 'trolls_official', 'manthannnn___', 'enoughabhi', 'nsb.pictures', 'businessinsiderin', 'swapnil_patni', 'aggarwalbhavishya', 'mindheartwars', 'inclinedstudio', 'mynk_hr34', 'sainirajwan', 'nehakakkar', 'shre.speaks_', 'the_filmy_ca', 'thekuldeepsinghania', 'prashu.s.1_3', 'business_and_finance_news', 'umangkatyal', 'narendramodi', 'wini.on', 'husqvarnasvartpilen', 'kiaraaliaadvani', 'desi.bakchod', 'umeshbhatia1070', 'himanshu_dulani', 'kunal.629', 'itusharsoni2', 'businessnews.in', 'shinchanmemes', 'sapna_ydvnshi223', 'coolfact_loverz', 'the_economic_times'}\n"
     ]
    }
   ],
   "source": [
    "def list_of_my_followers(username):\n",
    "    search = driver.find_element_by_xpath('//div[contains(@class,\"LWmhU\")]/input')\n",
    "    search.clear()\n",
    "    search.send_keys(username)\n",
    "    driver.find_element_by_class_name(\"-qQT3\").click()\n",
    "    wait.until(EC.presence_of_all_elements_located((By.PARTIAL_LINK_TEXT ,'followers')))\n",
    "    driver.find_element_by_partial_link_text('followers').click()\n",
    "    current_height = driver.execute_script('return document.getElementsByClassName(\"isgrP\")[0].scrollHeight ;')\n",
    "    l = []\n",
    "    while True :\n",
    "        ele = driver.find_elements_by_xpath('//span[contains(@class,\"mArmR\")]/a')\n",
    "        for i in ele:\n",
    "            l.append(i.get_attribute('title'))\n",
    "        driver.execute_script('document.getElementsByClassName(\"isgrP\")[0].scrollTo(0, arguments[0]);', current_height)\n",
    "        time.sleep(1)\n",
    "        new_height = driver.execute_script('return document.getElementsByClassName(\"isgrP\")[0].scrollHeight ;')\n",
    "        if new_height == current_height:\n",
    "            break\n",
    "        current_height = new_height\n",
    "    driver.find_element_by_xpath(\"//div[contains(@class,'WaOAr')]/button\").click()\n",
    "    return l\n",
    "def list_of_my_following(username):\n",
    "    search = driver.find_element_by_xpath('//div[contains(@class,\"LWmhU\")]/input')\n",
    "    search.clear()\n",
    "    search.send_keys(username)\n",
    "    driver.find_element_by_class_name(\"-qQT3\").click()\n",
    "    wait.until(EC.presence_of_all_elements_located((By.PARTIAL_LINK_TEXT ,'following')))\n",
    "    driver.find_element_by_partial_link_text('following').click()\n",
    "    current_height = driver.execute_script('return document.getElementsByClassName(\"isgrP\")[0].scrollHeight ;')\n",
    "    l = []\n",
    "    while True :\n",
    "        ele = driver.find_elements_by_xpath('//span[contains(@class,\"mArmR\")]/a')\n",
    "        for i in ele:\n",
    "            l.append(i.get_attribute('title'))\n",
    "        driver.execute_script('document.getElementsByClassName(\"isgrP\")[0].scrollTo(0, arguments[0]);', current_height)\n",
    "        time.sleep(1)\n",
    "        new_height = driver.execute_script('return document.getElementsByClassName(\"isgrP\")[0].scrollHeight ;')\n",
    "        if new_height == current_height:\n",
    "            break\n",
    "        current_height = new_height\n",
    "    driver.find_element_by_xpath(\"//div[contains(@class,'WaOAr')]/button\").click()\n",
    "    return l\n",
    "l1 = list_of_my_followers('user')\n",
    "l2 = list_of_my_following('user')\n",
    "print(set(l2) - set(l1))"
   ]
  },
  {
   "cell_type": "markdown",
   "id": "4823a4df",
   "metadata": {},
   "source": [
    "### Typing anything in search bar and print all the names of the Instagram Handles that are displayed in list after typing \n",
    "##### Example : Type 'food'"
   ]
  },
  {
   "cell_type": "code",
   "execution_count": 71,
   "id": "77a67b34",
   "metadata": {},
   "outputs": [
    {
     "name": "stdout",
     "output_type": "stream",
     "text": [
      "Names of the Instagram Handles that are displayed in list after typing food\n",
      "foodie_incarnate\n",
      "tasty.foodrecipes\n",
      "foodieeemishieee\n",
      "foody_bliss\n",
      "yourfoodlab\n",
      "foodmapjaipur\n",
      "food\n",
      "foodiesfeature\n",
      "the.food_cult\n",
      "indian_food_recipes5\n",
      "foodys\n",
      "chefsmind2021\n",
      "bisckoo\n",
      "foodzeee\n",
      "meghnasfoodmagic\n",
      "delhi_food_safari\n",
      "delhiicious\n",
      "streetfoodrecipe\n",
      "food_cooking_channel_1234_\n",
      "food_mood137\n",
      "foodtalkindia\n",
      "namasste_india\n",
      "f4foodi\n",
      "foodiewe\n",
      "foodaholic_pragya\n",
      "mi_nashikkar_\n",
      "dilsefoodie\n",
      "foodie_kinny\n",
      "headovermeals_2\n",
      "viral_foodie431\n",
      "foodieee_official\n",
      "nisha_yogagirl\n",
      "foodvoodindia\n",
      "food.lum\n",
      "foodinsider\n",
      "foodiesafarii\n",
      "partnersinfood_\n",
      "the_food_empire_\n",
      "food.darzee\n",
      "flavours.of.mumbai\n",
      "food_b.a.e\n",
      "thisisdelhi\n",
      "foodandwine\n",
      "oye.foodieee\n",
      "food.cuisine__\n",
      "delhifoodnest\n",
      "fakta_nashik_\n",
      "girly_n_gluttony\n"
     ]
    }
   ],
   "source": [
    "wait.until(EC.presence_of_all_elements_located((By.XPATH ,\"//input[@type='text']\")))\n",
    "search = driver.find_element_by_xpath(\"//input[@type='text']\")\n",
    "search.clear()\n",
    "search.send_keys('food')\n",
    "print(\"Names of the Instagram Handles that are displayed in list after typing food\")\n",
    "l = driver.find_elements_by_xpath('//div[starts-with(@class,\"fuqBx\")]/div/a')\n",
    "for i in l:\n",
    "    handle=i.get_attribute('href')\n",
    "    if 'explore' not in handle:          # this step so that hashtags will not get printed\n",
    "        h=handle.split('/')[3]\n",
    "        print(h)"
   ]
  },
  {
   "cell_type": "markdown",
   "id": "b697a9b3",
   "metadata": {},
   "source": [
    "### 3. Opening profile of XYZ username  and following/Unfollowing it\n",
    "\n",
    "#### Example : So Delhi"
   ]
  },
  {
   "cell_type": "code",
   "execution_count": 15,
   "id": "c5d6ff76",
   "metadata": {},
   "outputs": [
    {
     "name": "stdout",
     "output_type": "stream",
     "text": [
      "Profile So Delhi opened\n",
      "Followed So Delhi\n",
      "Unfollowed So Delhi\n"
     ]
    }
   ],
   "source": [
    "# Open profile of “So Delhi”\n",
    "\n",
    "search = driver.find_element_by_xpath(\"//input[@type='text']\")\n",
    "search.clear()\n",
    "search.send_keys('sodelhi')\n",
    "driver.find_element_by_class_name(\"-qQT3\").click()\n",
    "print(\"Profile So Delhi opened\")\n",
    "\n",
    "# Start following it. Print a message if you are already following\n",
    "try:\n",
    "    wait.until(EC.presence_of_all_elements_located((By.XPATH ,'//div[contains(@class,\"fDxYl\")]')))\n",
    "    d = driver.find_element_by_xpath('//div[contains(@class,\"fDxYl\")]')\n",
    "    if d.text == 'Message':\n",
    "        print(\"Already followed So Delhi\")\n",
    "    else:\n",
    "        driver.find_element_by_xpath('//button[contains(@class,\"_6VtSN\")]').click()\n",
    "        print(\"Followed So Delhi\")\n",
    "except NoSuchElementException:\n",
    "    driver.find_element_by_xpath('//button[contains(@class,\"_6VtSN\")]').click()\n",
    "    print(\"Followed So Delhi\")\n",
    "time.sleep(2)\n",
    "# After following, unfollow the instagram handle. Print a message if you have already unfollowed.\n",
    "wait.until(EC.presence_of_all_elements_located((By.XPATH ,'//button[contains(@class,\"_6VtSN\")]')))\n",
    "d = driver.find_element_by_xpath('//button[contains(@class,\"_6VtSN\")]')\n",
    "if d.text == 'Follow':\n",
    "    print(\"Already Unfollowed So Delhi\")\n",
    "else:\n",
    "    d.click()\n",
    "    driver.find_element_by_xpath('//button[contains(@class,\"aOOlW\")]').click()\n",
    "    print(\"Unfollowed So Delhi\")\n",
    "    \n",
    "time.sleep(2)"
   ]
  },
  {
   "cell_type": "markdown",
   "id": "2241b973",
   "metadata": {},
   "source": [
    "### Like/Unlike posts"
   ]
  },
  {
   "cell_type": "code",
   "execution_count": 17,
   "id": "76fabbb9",
   "metadata": {},
   "outputs": [],
   "source": [
    "search = driver.find_element_by_xpath(\"//input[@type='text']\")\n",
    "search.clear()\n",
    "search.send_keys('sodelhi')\n",
    "driver.find_element_by_class_name(\"-qQT3\").click()\n",
    "wait.until(EC.presence_of_all_elements_located((By.XPATH ,\"//div[contains(@class,'v1Nh3')]/a\")))\n",
    "driver.find_element_by_xpath(\"//div[contains(@class,'v1Nh3')]/a\").click()\n",
    "for i in range(2):\n",
    "    e = driver.find_element_by_xpath(\"//div[contains(@class,'QBdPU ')]/span\")\n",
    "    val = e.get_attribute('innerHTML').split('\\\"')[1]\n",
    "    if (val == 'Unlike'):\n",
    "        print(\"Already liked\")\n",
    "    else:\n",
    "        driver.find_element_by_xpath(\"//span[contains(@class,'fr66n')]/button\").click()\n",
    "    wait.until(EC.presence_of_all_elements_located((By.XPATH ,\"//a[contains(@class,'coreSpriteRightPaginationArrow')]\")))\n",
    "    driver.find_element_by_xpath(\"//a[contains(@class,'coreSpriteRightPaginationArrow')]\").click()\n",
    "for i in range(2):\n",
    "    wait.until(EC.presence_of_all_elements_located((By.XPATH ,\"//a[contains(@class,'coreSpriteLeftPaginationArrow')]\")))\n",
    "    driver.find_element_by_xpath(\"//a[contains(@class,'coreSpriteLeftPaginationArrow')]\").click()\n",
    "    e = driver.find_element_by_xpath(\"//div[contains(@class,'QBdPU ')]/span\")\n",
    "    val = e.get_attribute('innerHTML').split('\\\"')[1]\n",
    "    if (val == 'like'):\n",
    "        print(\"Already unliked\")\n",
    "    else:\n",
    "        driver.find_element_by_xpath(\"//span[contains(@class,'fr66n')]/button\").click()\n",
    "time.sleep(1)\n",
    "driver.back()\n",
    "driver.back()"
   ]
  },
  {
   "cell_type": "markdown",
   "id": "19f5b14f",
   "metadata": {},
   "source": [
    "### Finding out some top insta page in some particular domain and analyze their habits like frequency of posts etc\n",
    "### Say in case of pages related to food blogging"
   ]
  },
  {
   "cell_type": "code",
   "execution_count": 52,
   "id": "20bbce69",
   "metadata": {},
   "outputs": [
    {
     "name": "stdout",
     "output_type": "stream",
     "text": [
      "[[761170, 'yourfoodlab'], [761170, 'foodie_incarnate'], [146223, 'food']]\n"
     ]
    }
   ],
   "source": [
    "wait.until(EC.presence_of_all_elements_located((By.XPATH ,\"//input[@type='text']\")))\n",
    "search = driver.find_element_by_xpath(\"//input[@type='text']\")\n",
    "search.clear()\n",
    "search.send_keys('food')\n",
    "handle = []\n",
    "l = driver.find_elements_by_xpath('//div[starts-with(@class,\"fuqBx\")]/div/a')\n",
    "for i in l:\n",
    "    li=i.get_attribute('href')\n",
    "    if 'explore' not in li:\n",
    "        h=li.split('/')[3]\n",
    "        if len(handle) != 10:\n",
    "            handle.append(h)\n",
    "        else:\n",
    "            break\n",
    "            \n",
    "followers = []\n",
    "for i in handle:\n",
    "    count = 0\n",
    "    wait.until(EC.presence_of_all_elements_located((By.XPATH ,\"//input[@type='text']\")))\n",
    "    search = driver.find_element_by_xpath(\"//input[@type='text']\")\n",
    "    search.clear()\n",
    "    search.send_keys(i)\n",
    "    time.sleep(1)\n",
    "    a = driver.find_elements_by_xpath('//div[contains(@class,\"uL8Hv\")]')\n",
    "    for j in a:\n",
    "        if j.text.strip() == i:\n",
    "            j.click()\n",
    "            break;\n",
    "    time.sleep(2)\n",
    "    d = driver.find_elements_by_xpath('//span[contains(@class,\"g47SY\")]')[1].get_attribute('title')\n",
    "    time.sleep(0.2)\n",
    "    count = int(\"\".join(d.split(',')))\n",
    "    time.sleep(0.2)\n",
    "    followers.append([count , i])\n",
    "followers = sorted(followers,reverse=True)\n",
    "top_3 = followers[:3]\n",
    "print(top_3)"
   ]
  },
  {
   "cell_type": "markdown",
   "id": "d6ed36ac",
   "metadata": {},
   "source": [
    "### Find the number of posts these handles have done in the previous 2 days"
   ]
  },
  {
   "cell_type": "code",
   "execution_count": 58,
   "id": "4e7dee12",
   "metadata": {},
   "outputs": [
    {
     "name": "stdout",
     "output_type": "stream",
     "text": [
      "yourfoodlab  ------>  3 posts\n",
      "foodie_incarnate  ------>  5 posts\n",
      "food  ------>  0 posts\n"
     ]
    },
    {
     "data": {
      "text/plain": [
       "Text(0, 0.5, 'Num posts in last 2 days')"
      ]
     },
     "execution_count": 58,
     "metadata": {},
     "output_type": "execute_result"
    },
    {
     "data": {
      "image/png": "[encoded data removed]",
      "text/plain": [
       "<Figure size 1080x432 with 1 Axes>"
      ]
     },
     "metadata": {
      "needs_background": "light"
     },
     "output_type": "display_data"
    }
   ],
   "source": [
    "def num_posts():\n",
    "    driver.find_element_by_xpath('//div[contains(@class,\"v1Nh3\")]/a').click()\n",
    "    count = 0\n",
    "    while True:\n",
    "        time.sleep(0.5)\n",
    "        d = driver.find_elements_by_class_name('Nzb55')[-1]\n",
    "        d = d.text.split()\n",
    "        if int(d[0]) > 2 and d[1] =='DAYS':\n",
    "            break\n",
    "        count += 1\n",
    "        driver.find_element_by_xpath('//a[contains(@class,\"_65Bje\")]').click()\n",
    "    driver.find_elements_by_xpath('//button[contains(@class,\"wpO6b\")]')[-1].click()\n",
    "    return count\n",
    "\n",
    "posts = []\n",
    "for j,i in top_3:\n",
    "    wait.until(EC.presence_of_all_elements_located((By.XPATH ,\"//input[@type='text']\")))\n",
    "    search = driver.find_element_by_xpath(\"//input[@type='text']\")\n",
    "    search.clear()\n",
    "    search.send_keys(i)\n",
    "    time.sleep(2)\n",
    "    a = driver.find_elements_by_xpath('//div[contains(@class,\"uL8Hv\")]')\n",
    "    for j in a:\n",
    "        if j.text.strip() == i:\n",
    "            j.click()\n",
    "            break;\n",
    "    count = num_posts()\n",
    "    posts.append([count , i])\n",
    "    \n",
    "num_posts = []\n",
    "page_name = []\n",
    "for i,j in posts:\n",
    "    num_posts.append(i)\n",
    "    page_name.append(j)\n",
    "\n",
    "for i in range(3):\n",
    "    print(page_name[i],\" ------> \",num_posts[i],\"posts\")\n",
    "\n",
    "# Depicting this information using graph.\n",
    "\n",
    "plt.figure(figsize=(15,6))\n",
    "plt.bar(page_name,num_posts)\n",
    "plt.xlabel('Food Blogger Page name')\n",
    "plt.ylabel(\"Num posts in last 2 days\")"
   ]
  },
  {
   "cell_type": "markdown",
   "id": "c7f6f72c",
   "metadata": {},
   "source": [
    "### Identifying most used hashtags by these top bloggers and identifying their frequency"
   ]
  },
  {
   "cell_type": "code",
   "execution_count": 61,
   "id": "634cccea",
   "metadata": {},
   "outputs": [
    {
     "name": "stdout",
     "output_type": "stream",
     "text": [
      "{'#recipe': 4, '#foodie': 10, '#indiancuisine': 4, '#streetfood': 5, '#mumbaifoodie': 2, '#shawarma': 2, '#shawarmalovers': 2, '#shawarmas': 2, '#paneer': 2, '#paneerrecipes': 2, '#paneerlove': 2, '#sanjyotkeer': 4, '#yourfoodlab': 4, '#momo': 1, '#momoslover': 1, '#momos': 1, '#chickenmomos': 1, '#foodporn': 8, '#foodblogger': 8, '#foodphotography': 6, '#indianfood': 3, '#MomoLove': 1, '#YFL': 1, '#YourFoodLab': 1, '#SanjyotKeer': 1, '#samosa': 2, '#samosalover': 1, '#foodstylist': 1, '#monsoon': 1, '#monsoonseason': 1, '#mood': 1, '#foodpic': 6, '#onionsamosa': 1, '#instafood': 2, '#Foodieincarnate': 1, '#Reelitfeelit': 1, '#reelkarofeelkaro': 2, '#reelsinstagram': 2, '#reels': 1, '#matkaroti': 1, '#nagpur': 1, '#uniquefood': 1, '#famousfood': 1, '#foodieincarnate': 4, '#sodelhi': 3, '#foodtalkindia': 2, '#newdelhi': 3, '#delhigram': 2, '#desifood': 1, '#ruralindia': 1, '#santacruz': 1, '#mumbaifood': 1, '#munbaifoodie': 1, '#somumbai': 1, '#pakora': 1, '#indianrecipes': 1, '#vadapav': 1, '#bangalorefood': 1, '#pavbhaji': 1, '#bhajji': 1, '#delhistreetfood': 2, '#streetfoodindia': 2, '#foodism': 1, '#foodgasm': 2, '#desikhana': 2, '#mumbaifoodies': 1, '#delhifoodblog': 1, '#mumbaifoodlovers': 1, '#goodfoodindia': 1, '#sokolkata': 1, '#chutney': 1, '#snack': 1, '#delhifoodblogger': 2, '#foodpornshare': 1, '#foodlover': 6, '#foodgram': 6, '#foodiesofinstagram': 1, '#indianstreetfood': 1, '#mumbaistreetfood': 1, '#delhifoodie': 3, '#indianfoodie': 1, '#indianfoodblogger': 1, '#indianfoodbloggers': 2, '#delhifood': 3, '#mumbai': 1, '#delhi': 1, '#kolkata': 1, '#paratha': 1, '#goldman': 1, '#reelitfeelit': 1, '#indore': 1, '#indorefood': 1, '#swag': 1, '#goldjewellery': 1, '#goldchains': 1, '#crowneplaza': 1, '#greaternoida': 1, '#breakfast': 1, '#noida': 1, '#delhifoodbloggers': 1, '#crowneplazagreaternoida': 1, '#platter': 1, '#delhihotels': 1, '#amarsirohi': 1, '#doughnut': 1, '#idli': 1, '#fivestar': 1, '#delhiblogger': 1, '#delhibloggers': 1, '#indianblogger': 1, '#foodbloggers': 1, '#HeresMyFood': 3, '#food': 5, '#foodpics': 5, '#foodstagram': 5, '#foodshare': 5, '#foodlife': 5, '#foodinstagram': 5, '#foodoftheday': 5, '#foodies': 5, '#foodiegram': 5, '#foods': 5}\n"
     ]
    }
   ],
   "source": [
    "def hashtags():\n",
    "    driver.find_element_by_xpath('//div[contains(@class,\"v1Nh3\")]/a').click()\n",
    "    hashtag = []\n",
    "    c = 0\n",
    "    while c < 5:\n",
    "        time.sleep(0.5)\n",
    "        l = driver.find_element_by_xpath('//div[contains(@class,\"C4VMK\")]/span').find_elements_by_tag_name('a')\n",
    "        for i in l:\n",
    "            if (i.text != \"\") and (i.text[0] == '#'):\n",
    "                hashtag.append(i.text)\n",
    "        driver.find_element_by_xpath('//a[contains(@class,\"_65Bje\")]').click()\n",
    "        c += 1\n",
    "    driver.find_elements_by_xpath('//button[contains(@class,\"wpO6b\")]')[-1].click()\n",
    "    return hashtag\n",
    "d = {}\n",
    "for j,i in top_3:\n",
    "    wait.until(EC.presence_of_all_elements_located((By.XPATH ,\"//input[@type='text']\")))\n",
    "    search = driver.find_element_by_xpath(\"//input[@type='text']\")\n",
    "    search.clear()\n",
    "    search.send_keys(i)\n",
    "    time.sleep(2)\n",
    "    a = driver.find_elements_by_xpath('//div[contains(@class,\"uL8Hv\")]')\n",
    "    for j in a:\n",
    "        if j.text.strip() == i:\n",
    "            j.click()\n",
    "            break;\n",
    "    hashtag = hashtags()\n",
    "    for i in hashtag:\n",
    "        d[i] = d.get(i,0) + 1\n",
    "print(d)"
   ]
  },
  {
   "cell_type": "code",
   "execution_count": 62,
   "id": "9cbaf376",
   "metadata": {},
   "outputs": [],
   "source": [
    "d = {k: v for k, v in sorted(d.items(), key=lambda item: item[1] , reverse = True )}"
   ]
  },
  {
   "cell_type": "code",
   "execution_count": 64,
   "id": "f02c11b9",
   "metadata": {},
   "outputs": [
    {
     "name": "stdout",
     "output_type": "stream",
     "text": [
      "Top 10 hashtags are\n",
      "#foodie ----------> 10\n",
      "#foodporn ----------> 8\n",
      "#foodblogger ----------> 8\n",
      "#foodphotography ----------> 6\n",
      "#foodpic ----------> 6\n",
      "#foodlover ----------> 6\n",
      "#foodgram ----------> 6\n",
      "#streetfood ----------> 5\n",
      "#food ----------> 5\n",
      "#foodpics ----------> 5\n"
     ]
    }
   ],
   "source": [
    "print(\"Top 10 hashtags are\")\n",
    "count = 0\n",
    "for i in d:\n",
    "    if count < 10:\n",
    "        print(i , \"---------->\" , d[i])\n",
    "        count += 1"
   ]
  },
  {
   "cell_type": "markdown",
   "id": "415ce737",
   "metadata": {},
   "source": [
    "### Average likes to followers ratio"
   ]
  },
  {
   "cell_type": "markdown",
   "id": "902cc971",
   "metadata": {},
   "source": [
    "### Brief description about calculation\n",
    "#### Followers : Likes ratio is calculated as follows:\n",
    "#### Find out the likes of the top 10 posts of the 3 handles obtained earlier.\n",
    "#### Calculate the average likes for a handle.\n",
    "#### Divide the average likes obtained from the number of followers of the handle to get the average followers:like ratio of each handle.\n",
    "#### Create a bar graph to depict the above obtained information."
   ]
  },
  {
   "cell_type": "code",
   "execution_count": 73,
   "id": "fd17fa8f",
   "metadata": {},
   "outputs": [
    {
     "name": "stdout",
     "output_type": "stream",
     "text": [
      "------------- YOURFOODLAB ----------------\n",
      "Views on post  1  :  7050\n",
      "Likes on post  2  :  27642\n",
      "Views on post  3  :  215466\n",
      "Views on post  4  :  144587\n",
      "Likes on post  5  :  41772\n",
      "Views on post  6  :  1000404\n",
      "Likes on post  7  :  38519\n",
      "Views on post  8  :  171909\n",
      "Views on post  9  :  356539\n",
      "Views on post  10  :  450617\n",
      "Average likes :  245450.5\n",
      "Average likes to followers ratio is  0.32246475820119025\n",
      "============================================\n",
      "------------- FOODIE_INCARNATE ----------------\n",
      "Likes on post  1  :  31917\n",
      "Likes on post  2  :  29441\n",
      "Views on post  3  :  326568\n",
      "Likes on post  4  :  37487\n",
      "Likes on post  5  :  29426\n",
      "Views on post  6  :  807084\n",
      "Likes on post  7  :  61303\n",
      "Likes on post  8  :  26862\n",
      "Views on post  9  :  754453\n",
      "Likes on post  10  :  48249\n",
      "Average likes :  215279.0\n",
      "Average likes to followers ratio is  0.28282643824638387\n",
      "============================================\n",
      "------------- FOOD ----------------\n",
      "Likes on post  1  :  237\n",
      "Likes on post  2  :  277\n",
      "Likes on post  3  :  119\n",
      "Likes on post  4  :  187\n",
      "Likes on post  5  :  125\n",
      "Likes on post  6  :  82\n",
      "Likes on post  7  :  97\n",
      "Likes on post  8  :  148\n",
      "Likes on post  9  :  190\n",
      "Likes on post  10  :  92\n",
      "Average likes :  155.4\n",
      "Average likes to followers ratio is  0.0010627603044664655\n",
      "============================================\n",
      "[0.32246475820119025, 0.28282643824638387, 0.0010627603044664655]\n"
     ]
    }
   ],
   "source": [
    "def likes():\n",
    "    time.sleep(2)\n",
    "    driver.find_element_by_xpath('//div[contains(@class,\"v1Nh3\")]/a').click()\n",
    "    count_likes = 0\n",
    "    c = 0\n",
    "    while c < 10:\n",
    "        time.sleep(0.5)\n",
    "        try:\n",
    "            count = driver.find_element_by_xpath('//section[contains(@class,\"EDfFK\")]//a/span')\n",
    "            count = int(count.text.replace(',',''))\n",
    "            print(\"Likes on post \",c+1, \" : \" , count)\n",
    "        except NoSuchElementException:\n",
    "            count = int(driver.find_element_by_xpath('//section[contains(@class,\"EDfFK\")]//span/span').text.replace(',',''))\n",
    "            print(\"Views on post \",c+1, \" : \" , count)\n",
    "        count_likes += count\n",
    "        driver.find_element_by_xpath('//a[contains(@class,\"_65Bje\")]').click()\n",
    "        c += 1\n",
    "    driver.find_elements_by_xpath('//button[contains(@class,\"wpO6b\")]')[-1].click()\n",
    "    return count_likes/10\n",
    "l = []\n",
    "for k,i in top_3:\n",
    "    wait.until(EC.presence_of_all_elements_located((By.XPATH ,\"//input[@type='text']\")))\n",
    "    search = driver.find_element_by_xpath(\"//input[@type='text']\")\n",
    "    search.clear()\n",
    "    search.send_keys(i)\n",
    "    time.sleep(2)\n",
    "    a = driver.find_elements_by_xpath('//div[contains(@class,\"uL8Hv\")]')\n",
    "    for j in a:\n",
    "        if j.text.strip() == i:\n",
    "            j.click()\n",
    "            break\n",
    "    print(\"-------------\",i.upper(),\"----------------\")\n",
    "    avg_likes = likes()\n",
    "    print(\"Average likes : \", avg_likes)\n",
    "    ratio = avg_likes/k\n",
    "    print(\"Average likes to followers ratio is \", ratio)\n",
    "    l.append(ratio)\n",
    "    print(\"============================================\")\n",
    "print(l)"
   ]
  },
  {
   "cell_type": "code",
   "execution_count": 80,
   "id": "720406fe",
   "metadata": {},
   "outputs": [
    {
     "data": {
      "image/png": "[encoded data removed]",
      "text/plain": [
       "<Figure size 1080x576 with 1 Axes>"
      ]
     },
     "metadata": {
      "needs_background": "light"
     },
     "output_type": "display_data"
    }
   ],
   "source": [
    "top_3 = [i[1] for i in top_3]\n",
    "plt.figure(figsize=(15,8))\n",
    "plt.bar(top_3 , l)\n",
    "plt.title(\"Average likes to followers ratio\")\n",
    "plt.xlabel(\"Page name\")\n",
    "plt.ylabel(\"ratio\")\n",
    "plt.show()"
   ]
  },
  {
   "cell_type": "code",
   "execution_count": null,
   "id": "f181e8b0",
   "metadata": {},
   "outputs": [],
   "source": []
  }
 ],
 "metadata": {
  "kernelspec": {
   "display_name": "Python 3",
   "language": "python",
   "name": "python3"
  },
  "language_info": {
   "codemirror_mode": {
    "name": "ipython",
    "version": 3
   },
   "file_extension": ".py",
   "mimetype": "text/x-python",
   "name": "python",
   "nbconvert_exporter": "python",
   "pygments_lexer": "ipython3",
   "version": "3.8.8"
  }
 },
 "nbformat": 4,
 "nbformat_minor": 5
}
